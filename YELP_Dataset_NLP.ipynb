{
 "cells": [
  {
   "cell_type": "markdown",
   "metadata": {},
   "source": [
    "# Natural Language Processing\n",
    "<hr style=\"width:100%; height:20px; border:none; color:#ffffff; background-color:#000000;\">"
   ]
  },
  {
   "cell_type": "code",
   "execution_count": 1,
   "metadata": {},
   "outputs": [
    {
     "name": "stdout",
     "output_type": "stream",
     "text": [
      "python: 3.6.9 |Anaconda, Inc.| (default, Jul 30 2019, 13:42:17) \n",
      "[GCC 4.2.1 Compatible Clang 4.0.1 (tags/RELEASE_401/final)] \n",
      "\n",
      "pandas:     0.25.0\n",
      "seaborn:    0.9.0\n",
      "numpy:      1.16.4\n",
      "matplotlib: 3.1.0\n",
      "json:       2.0.9\n",
      "tensorflow: 2.0.0-beta1\n",
      "keras:      2.2.4-tf\n"
     ]
    }
   ],
   "source": [
    "import io\n",
    "import sys\n",
    "import json\n",
    "import os.path\n",
    "import os, signal\n",
    "import numpy as np\n",
    "import pandas as pd\n",
    "import seaborn as sns\n",
    "import matplotlib as mpl\n",
    "import _pickle as pickle\n",
    "import matplotlib.pyplot as plt\n",
    "from IPython.display import display\n",
    "\n",
    "import tensorflow as tf\n",
    "from tensorflow import keras\n",
    "from tensorflow.keras import optimizers\n",
    "from tensorflow.keras.models import load_model\n",
    "from tensorflow.keras.preprocessing.text import Tokenizer\n",
    "from tensorflow.keras.preprocessing.sequence import pad_sequences\n",
    "\n",
    "#if not TF 2.x installed\n",
    "#tf.enable_eager_execution()\n",
    "\n",
    "from functions import (func_jsonParser,\n",
    "                       func_TrainValidationTest_Splitter_Dataframe,\n",
    "                       custom_Callback)\n",
    "\n",
    "#-----------------------------------------------------------------------------------------------------------------#\n",
    "\n",
    "#Main Python/module versions used here for reference\n",
    "print('python:', sys.version, '\\n')\n",
    "print('pandas:    ', pd.__version__)\n",
    "print('seaborn:   ', sns.__version__)\n",
    "print('numpy:     ', np.__version__)\n",
    "print('matplotlib:', mpl.__version__)\n",
    "print('json:      ', json.__version__)\n",
    "print('tensorflow:', tf.__version__)\n",
    "print('keras:     ', keras.__version__)\n",
    "\n",
    "tf.keras.backend.clear_session()\n",
    "\n",
    "#-----------------------------------------------------------------------------------------------------------------#\n",
    "\n",
    "#import warnings\n",
    "#warnings.filterwarnings('ignore')"
   ]
  },
  {
   "cell_type": "markdown",
   "metadata": {},
   "source": [
    "<hr style=\"width:100%; height:20px; border:none; color:#ffffff; background-color:#000000;\">\n",
    "\n",
    "### MAIN CUSTOMIZABLE VARIABLES"
   ]
  },
  {
   "cell_type": "code",
   "execution_count": 2,
   "metadata": {},
   "outputs": [],
   "source": [
    "VERBOSE = True                #=> (boolean) show or not additional information\n",
    "\n",
    "CHUNK_SIZE = 10000            #=> (int) number of rows/lines to read per iteration within the function \"read_json\"\n",
    "\n",
    "CHUNKS_NUM = 50               #=> (int) number of iterations to read within the function \"read_json\"\n",
    "\n",
    "TEST_PERCENTANGE = 0.15       #=> (float) percentage of records to be used for training/validation and test.\n",
    "    \n",
    "TRAINING_PERCENTANGE = 0.75   #=> (float) percentage of training and validation records with respect to the record \n",
    "                              # set not considered for testing.\n",
    "\n",
    "MAX_LENGHT = 250              #=> (int) maximum length of all sequences, i.e. number of words.\n",
    "\n",
    "BINARY_CLASSIFICATION = True  #=> (boolean) if BINARY_CLASSIFICATION=True, texts are divided in positive and negative\n",
    "                              #by the stars (negative <= 3 stars and positive > 3). if BINARY_CLASSIFICATION=False,\n",
    "                              #a neutral lebels is considered (i.e. three clases with negative < 3 stars, neutral = 3,\n",
    "                              #and positive > 3).\n",
    "\n",
    "NUM_WORDS = 10000             #=> (int) maximum number of words to keep by the Tokenizer, based on word frequency,\n",
    "                              #only the most common num_words-1 words will be kept.\n",
    "\n",
    "EMBEDDING_DIM = 16            #=> (int) dimension of the dense embedding in the layer \"tf.keras.layers.Embedding\".\n",
    "\n",
    "BATCH_SIZE = 1000             #=> (int) number of samples per gradient update during training of the sequential model.\n",
    "\n",
    "NUM_EPOCHS = 50               #=> (int) number of iterations over data during training by the sequential model.\n",
    "\n",
    "DROPOUT_RATE = 0.3            #=> (float) dropout rate in the layer \"tf.keras.layers.Dropout\".\n",
    "\n",
    "REGULARIZATION_PARAM = 0.001  #=> (float) L2 regularization parameter in \"keras.regularizers.l2\" as parameter of the \n",
    "                              #layer \"tf.keras.layers.Dense\".\n",
    "\n",
    "LEARNING_RATE = 0.0001        #=> (float) learning rate of the optimizer used by the sequential model."
   ]
  },
  {
   "cell_type": "markdown",
   "metadata": {},
   "source": [
    "<hr style=\"width:100%; height:20px; border:none; color:#ffffff; background-color:#000000;\">\n",
    "\n",
    "### LOADING AND SHUFFLING THE DATASET REVIEWS"
   ]
  },
  {
   "cell_type": "code",
   "execution_count": 3,
   "metadata": {},
   "outputs": [
    {
     "name": "stdout",
     "output_type": "stream",
     "text": [
      "REVIEW DATASET (# records): 6685900\n"
     ]
    }
   ],
   "source": [
    "print(\"REVIEW DATASET (# records): {}\".format(sum(1 for _ in open('yelp_dataset/review.json'))))"
   ]
  },
  {
   "cell_type": "code",
   "execution_count": 4,
   "metadata": {
    "scrolled": true
   },
   "outputs": [
    {
     "name": "stdout",
     "output_type": "stream",
     "text": [
      ">> TOTAL NUMBER OF LINES:  6685900\n",
      ">> LOADED DATASET (shape): (500000, 9)\n",
      "\n",
      ">> COLUMN NAMES: ['review_id', 'user_id', 'business_id', 'stars', 'useful', 'funny', 'cool', 'text', 'date']\n"
     ]
    },
    {
     "data": {
      "text/html": [
       "<div>\n",
       "<style scoped>\n",
       "    .dataframe tbody tr th:only-of-type {\n",
       "        vertical-align: middle;\n",
       "    }\n",
       "\n",
       "    .dataframe tbody tr th {\n",
       "        vertical-align: top;\n",
       "    }\n",
       "\n",
       "    .dataframe thead th {\n",
       "        text-align: right;\n",
       "    }\n",
       "</style>\n",
       "<table border=\"1\" class=\"dataframe\">\n",
       "  <thead>\n",
       "    <tr style=\"text-align: right;\">\n",
       "      <th></th>\n",
       "      <th>review_id</th>\n",
       "      <th>user_id</th>\n",
       "      <th>business_id</th>\n",
       "      <th>stars</th>\n",
       "      <th>useful</th>\n",
       "      <th>funny</th>\n",
       "      <th>cool</th>\n",
       "      <th>text</th>\n",
       "      <th>date</th>\n",
       "    </tr>\n",
       "  </thead>\n",
       "  <tbody>\n",
       "    <tr>\n",
       "      <th>0</th>\n",
       "      <td>PX12y4OHqaPmWbYmc7fGuw</td>\n",
       "      <td>N-zQsz9WZs8HNu_3QGFQNA</td>\n",
       "      <td>7Ny2GHLw8xl_kXfhfrvh5w</td>\n",
       "      <td>3</td>\n",
       "      <td>0</td>\n",
       "      <td>0</td>\n",
       "      <td>0</td>\n",
       "      <td>The food is great, portions are huge.  Our ser...</td>\n",
       "      <td>2014-01-06 20:27:01</td>\n",
       "    </tr>\n",
       "    <tr>\n",
       "      <th>1</th>\n",
       "      <td>q3Ttz054nXXBzwjbruNlFg</td>\n",
       "      <td>D4GMqFaWTOVsVCvJi6V35w</td>\n",
       "      <td>i-Vnm8CIDZS0G815HAKCSg</td>\n",
       "      <td>1</td>\n",
       "      <td>1</td>\n",
       "      <td>0</td>\n",
       "      <td>0</td>\n",
       "      <td>This f** store is horrible. If you truly love ...</td>\n",
       "      <td>2016-09-01 15:36:58</td>\n",
       "    </tr>\n",
       "    <tr>\n",
       "      <th>2</th>\n",
       "      <td>8b1zraI8nxGfeI8sTNXoxg</td>\n",
       "      <td>uT8R3AXGvCZlfMr0r03YXQ</td>\n",
       "      <td>-U0liwRSHGYBEMYVj8kFmQ</td>\n",
       "      <td>2</td>\n",
       "      <td>0</td>\n",
       "      <td>0</td>\n",
       "      <td>0</td>\n",
       "      <td>For years we have infrequently enjoyed Mickey ...</td>\n",
       "      <td>2016-03-21 13:26:52</td>\n",
       "    </tr>\n",
       "    <tr>\n",
       "      <th>3</th>\n",
       "      <td>wjKK_e6_v6p_ur-aqCJ7XA</td>\n",
       "      <td>EysJohG8RdNdsknK93FkFA</td>\n",
       "      <td>Z_-KUIoogqjFJyLNP0TW3A</td>\n",
       "      <td>5</td>\n",
       "      <td>1</td>\n",
       "      <td>0</td>\n",
       "      <td>0</td>\n",
       "      <td>Yep, so I shattered the screen on my iPhone 6+...</td>\n",
       "      <td>2015-04-02 20:06:10</td>\n",
       "    </tr>\n",
       "    <tr>\n",
       "      <th>4</th>\n",
       "      <td>yV2LULlwD6kFxwBExICcgg</td>\n",
       "      <td>BrneYLReHDmUc3NkqkL8FA</td>\n",
       "      <td>w4yq1IRk0DHQE995giqjGg</td>\n",
       "      <td>2</td>\n",
       "      <td>0</td>\n",
       "      <td>0</td>\n",
       "      <td>1</td>\n",
       "      <td>o far the server is very rude. Tables were dir...</td>\n",
       "      <td>2013-02-27 17:02:07</td>\n",
       "    </tr>\n",
       "  </tbody>\n",
       "</table>\n",
       "</div>"
      ],
      "text/plain": [
       "                review_id                 user_id             business_id  \\\n",
       "0  PX12y4OHqaPmWbYmc7fGuw  N-zQsz9WZs8HNu_3QGFQNA  7Ny2GHLw8xl_kXfhfrvh5w   \n",
       "1  q3Ttz054nXXBzwjbruNlFg  D4GMqFaWTOVsVCvJi6V35w  i-Vnm8CIDZS0G815HAKCSg   \n",
       "2  8b1zraI8nxGfeI8sTNXoxg  uT8R3AXGvCZlfMr0r03YXQ  -U0liwRSHGYBEMYVj8kFmQ   \n",
       "3  wjKK_e6_v6p_ur-aqCJ7XA  EysJohG8RdNdsknK93FkFA  Z_-KUIoogqjFJyLNP0TW3A   \n",
       "4  yV2LULlwD6kFxwBExICcgg  BrneYLReHDmUc3NkqkL8FA  w4yq1IRk0DHQE995giqjGg   \n",
       "\n",
       "   stars  useful  funny  cool  \\\n",
       "0      3       0      0     0   \n",
       "1      1       1      0     0   \n",
       "2      2       0      0     0   \n",
       "3      5       1      0     0   \n",
       "4      2       0      0     1   \n",
       "\n",
       "                                                text                date  \n",
       "0  The food is great, portions are huge.  Our ser... 2014-01-06 20:27:01  \n",
       "1  This f** store is horrible. If you truly love ... 2016-09-01 15:36:58  \n",
       "2  For years we have infrequently enjoyed Mickey ... 2016-03-21 13:26:52  \n",
       "3  Yep, so I shattered the screen on my iPhone 6+... 2015-04-02 20:06:10  \n",
       "4  o far the server is very rude. Tables were dir... 2013-02-27 17:02:07  "
      ]
     },
     "metadata": {},
     "output_type": "display_data"
    },
    {
     "name": "stdout",
     "output_type": "stream",
     "text": [
      "CPU times: user 58.9 s, sys: 13.2 s, total: 1min 12s\n",
      "Wall time: 2min 37s\n"
     ]
    }
   ],
   "source": [
    "%%time\n",
    "\n",
    "df_review = func_jsonParser(file = 'yelp_dataset/review.json', \n",
    "                            chunk_size = CHUNK_SIZE, \n",
    "                            chunks_num = CHUNKS_NUM, \n",
    "                            save_output = True)\n",
    "\n",
    "#shuffle the dataframe and reset the indexes\n",
    "df_review = df_review.sample(frac = 1.0, random_state = 0).reset_index(drop = True)\n",
    "\n",
    "#--------------------------------------------------------------------------------------------------------------------#\n",
    "\n",
    "if VERBOSE:\n",
    "    print(\">> TOTAL NUMBER OF LINES:  {}\".format(sum(1 for _ in open('yelp_dataset/review.json'))))\n",
    "    print(\">> LOADED DATASET (shape): {}\\n\".format(df_review.shape))\n",
    "    print(\">> COLUMN NAMES: {}\".format(df_review.columns.tolist()))\n",
    "    \n",
    "    display(df_review.head(5))"
   ]
  },
  {
   "cell_type": "markdown",
   "metadata": {},
   "source": [
    "<hr style=\"width:100%; height:20px; border:none; color:#ffffff; background-color:#000000;\">\n",
    "\n",
    "### Plotting the distribution of stars on the loaded reviews"
   ]
  },
  {
   "cell_type": "code",
   "execution_count": 5,
   "metadata": {},
   "outputs": [
    {
     "data": {
      "image/png": "[encoded data removed]",
      "text/plain": [
       "<Figure size 360x216 with 1 Axes>"
      ]
     },
     "metadata": {
      "needs_background": "light"
     },
     "output_type": "display_data"
    }
   ],
   "source": [
    "fig, ax = plt.subplots(figsize = (len(df_review['stars'].unique()),3))\n",
    "ax.spines['top'].set_visible(False)\n",
    "ax.spines['right'].set_visible(False)\n",
    "\n",
    "sns.countplot(df_review.stars)\n",
    "\n",
    "plt.xlabel('Stars', fontsize = 14)\n",
    "plt.ylabel('Count', fontsize = 14)\n",
    "plt.xticks(fontsize = 14)\n",
    "plt.yticks(fontsize = 14)\n",
    "plt.xlim(-0.75, len(df_review.stars.unique())-0.25)\n",
    "\n",
    "plt.show()"
   ]
  },
  {
   "cell_type": "markdown",
   "metadata": {},
   "source": [
    "<hr style=\"width:100%; height:20px; border:none; color:#ffffff; background-color:#000000;\">\n",
    "\n",
    "### Transforming star-based rating to negative/positive (if BINARY_CLASSIFICATION = True) or negative/neutra/positive classes (if BINARY_CLASSIFICATION = False)"
   ]
  },
  {
   "cell_type": "code",
   "execution_count": 6,
   "metadata": {},
   "outputs": [],
   "source": [
    "if BINARY_CLASSIFICATION:\n",
    "    \n",
    "    #bad comments\n",
    "    df_review.loc[(df_review.stars == 1) | \n",
    "                  (df_review.stars == 2) | \n",
    "                  (df_review.stars == 3), 'stars'] = 0\n",
    "\n",
    "    #good comments\n",
    "    df_review.loc[(df_review.stars == 4) | \n",
    "                  (df_review.stars == 5), 'stars'] = 1\n",
    "    \n",
    "else:\n",
    "    \n",
    "    #bad comments\n",
    "    df_review.loc[(df_review.stars == 1) | \n",
    "                  (df_review.stars == 2), 'stars'] = 0\n",
    "\n",
    "    #indifferent comments\n",
    "    df_review.loc[(df_review.stars == 3), 'stars'] = 1\n",
    "\n",
    "    #good comments\n",
    "    df_review.loc[(df_review.stars == 4) | \n",
    "                  (df_review.stars == 5), 'stars'] = 2\n",
    "\n",
    "#--------------------------------------------------------------------------------------------------------------------#\n",
    "\n",
    "df_review.rename(columns={\"stars\": \"comment_qlty\"}, inplace = True)"
   ]
  },
  {
   "cell_type": "markdown",
   "metadata": {},
   "source": [
    "<hr style=\"width:100%; height:20px; border:none; color:#ffffff; background-color:#000000;\">\n",
    "\n",
    "### Plotting the resulting distribution of classes"
   ]
  },
  {
   "cell_type": "code",
   "execution_count": 7,
   "metadata": {},
   "outputs": [
    {
     "data": {
      "image/png": "[encoded data removed]",
      "text/plain": [
       "<Figure size 144x216 with 1 Axes>"
      ]
     },
     "metadata": {
      "needs_background": "light"
     },
     "output_type": "display_data"
    }
   ],
   "source": [
    "fig, ax = plt.subplots(figsize = (len(df_review['comment_qlty'].unique()),3))\n",
    "ax.spines['top'].set_visible(False)\n",
    "ax.spines['right'].set_visible(False)\n",
    "\n",
    "sns.countplot(df_review['comment_qlty'])\n",
    "\n",
    "plt.xlabel('Comment qlty.', fontsize = 14)\n",
    "plt.ylabel('Count', fontsize = 14)\n",
    "plt.xticks(fontsize = 14)\n",
    "plt.yticks(fontsize = 14)\n",
    "plt.xlim(-0.75, len(df_review['comment_qlty'].unique())-0.25)\n",
    "\n",
    "plt.show()"
   ]
  },
  {
   "cell_type": "markdown",
   "metadata": {},
   "source": [
    "<hr style=\"width:100%; height:20px; border:none; color:#ffffff; background-color:#000000;\">\n",
    "\n",
    "### SPLITTING THE DATASET IN TRAINING, VALIDATION AND TEST SETS"
   ]
  },
  {
   "cell_type": "code",
   "execution_count": 8,
   "metadata": {},
   "outputs": [
    {
     "name": "stdout",
     "output_type": "stream",
     "text": [
      ">> COMPLETE DATASET (shape):     (500000, 9)\n",
      ">> TRAINING DATASET (length):    318750\n",
      ">> VALIDATION  DATASET (length): 106250\n",
      ">> TEST DATASET (length):        75000\n"
     ]
    }
   ],
   "source": [
    "df_training, df_validation, df_test = func_TrainValidationTest_Splitter_Dataframe(dataset = df_review,\n",
    "                                                                                  test_percentage = TEST_PERCENTANGE,\n",
    "                                                                                  training_percentage = TRAINING_PERCENTANGE)\n",
    "\n",
    "training_texts = df_training[\"text\"]\n",
    "training_labls = df_training[\"comment_qlty\"].values\n",
    "\n",
    "validation_texts = df_validation[\"text\"]\n",
    "validation_labls = df_validation[\"comment_qlty\"].values\n",
    "\n",
    "test_texts = df_test[\"text\"]\n",
    "test_labls = df_test[\"comment_qlty\"].values\n",
    "\n",
    "del df_training, df_validation, df_test\n",
    "\n",
    "#--------------------------------------------------------------------------------------------------------------------#\n",
    "\n",
    "if VERBOSE:\n",
    "    print(\">> COMPLETE DATASET (shape):     {}\".format(df_review.shape))\n",
    "    print(\">> TRAINING DATASET (length):    {}\".format(len(training_texts)))\n",
    "    print(\">> VALIDATION  DATASET (length): {}\".format(len(validation_texts)))\n",
    "    print(\">> TEST DATASET (length):        {}\".format(len(test_texts)))"
   ]
  },
  {
   "cell_type": "markdown",
   "metadata": {},
   "source": [
    "<hr style=\"width:100%; height:20px; border:none; color:#ffffff; background-color:#000000;\">\n",
    "\n",
    "### TOKENIZING AND PADDING THE TRAINING, VALIDATION AND TEST TEXTS"
   ]
  },
  {
   "cell_type": "code",
   "execution_count": 9,
   "metadata": {},
   "outputs": [
    {
     "name": "stdout",
     "output_type": "stream",
     "text": [
      ">> WORD INDEXES (length): 148389\n",
      ">> SOME WORD INDEXES: {'{OOV}': 1, 'the': 2, 'and': 3, 'i': 4, 'a': 5, 'to': 6, 'was': 7, 'of': 8, 'it': 9, 'is': 10}\n",
      "\n",
      ">> TEXT (example): Great service, clean restaurant and best of all the food is so, so good! I've had the chicken roti twice, and it's been amazing each time. They have affordable daily specials for just $5.25! I can't describe how much I absolutely love this place! \n",
      "It's a must try!\n",
      "\n",
      ">> TRAINNING SEQUENCE (example): [36, 42, 216, 105, 3, 86, 8, 38, 2, 29, 10, 25, 25, 30, 96, 24, 2, 101, 3290, 623, 3, 57, 67, 117, 285, 46, 17, 22, 1103, 1431, 861, 11, 45, 131, 775, 4, 193, 2197, 123, 115, 4, 384, 93, 16, 31, 57, 5, 388, 106]\n",
      "\n",
      ">> TRAINNING PADDED SEQUENCES (shape): (318750, 250)\n",
      "CPU times: user 3min 17s, sys: 19.7 s, total: 3min 37s\n",
      "Wall time: 6min 28s\n"
     ]
    }
   ],
   "source": [
    "%%time\n",
    "\n",
    "tk = Tokenizer(num_words = NUM_WORDS, lower = True, oov_token = '{OOV}')\n",
    "tk.fit_on_texts(training_texts.tolist())\n",
    "\n",
    "word_indexes = tk.word_index\n",
    "\n",
    "training_sequences = tk.texts_to_sequences(training_texts.tolist())\n",
    "training_padded_sequences = pad_sequences(training_sequences, \n",
    "                                          padding = 'post', \n",
    "                                          truncating = 'post', \n",
    "                                          maxlen = MAX_LENGHT)\n",
    "\n",
    "validation_sequences = tk.texts_to_sequences(validation_texts.tolist())\n",
    "validation_padded_sequences = pad_sequences(validation_sequences, \n",
    "                                            padding = 'post', \n",
    "                                            truncating = 'post', \n",
    "                                            maxlen = MAX_LENGHT)\n",
    "\n",
    "test_sequences = tk.texts_to_sequences(test_texts.tolist())\n",
    "test_padded_sequences = pad_sequences(test_sequences, \n",
    "                                      padding = 'post', \n",
    "                                      truncating = 'post', \n",
    "                                      maxlen = MAX_LENGHT)\n",
    "\n",
    "#--------------------------------------------------------------------------------------------------------------------#\n",
    "\n",
    "if VERBOSE:\n",
    "    print(\">> WORD INDEXES (length): {}\".format(len(word_indexes)))\n",
    "    print(\">> SOME WORD INDEXES: {}\\n\".format({k: word_indexes[k] for k in list(word_indexes.keys())[0:10]}))\n",
    "    \n",
    "    print(\">> TEXT (example): {}\\n\".format(training_texts.tolist()[0]))\n",
    "    print(\">> TRAINNING SEQUENCE (example): {}\\n\".format(training_sequences[0]))\n",
    "    print(\">> TRAINNING PADDED SEQUENCES (shape): {}\".format(training_padded_sequences.shape))"
   ]
  },
  {
   "cell_type": "markdown",
   "metadata": {},
   "source": [
    "<hr style=\"width:100%; height:20px; border:none; color:#ffffff; background-color:#000000;\">\n",
    "\n",
    "### SEQUENTIAL MODEL DEFINITION FOR BINARY OR MULTICLASS CLASSIFICATION"
   ]
  },
  {
   "cell_type": "code",
   "execution_count": 10,
   "metadata": {},
   "outputs": [
    {
     "name": "stdout",
     "output_type": "stream",
     "text": [
      "Model: \"sequential\"\n",
      "_________________________________________________________________\n",
      "Layer (type)                 Output Shape              Param #   \n",
      "=================================================================\n",
      "input_layer (Embedding)      (None, 250, 16)           160000    \n",
      "_________________________________________________________________\n",
      "hlayer1 (GlobalAveragePoolin (None, 16)                0         \n",
      "_________________________________________________________________\n",
      "hlayer2 (Dense)              (None, 32)                544       \n",
      "_________________________________________________________________\n",
      "dropout (Dropout)            (None, 32)                0         \n",
      "_________________________________________________________________\n",
      "hlayer3 (Dense)              (None, 16)                528       \n",
      "_________________________________________________________________\n",
      "dropout_1 (Dropout)          (None, 16)                0         \n",
      "_________________________________________________________________\n",
      "output_layer (Dense)         (None, 1)                 17        \n",
      "=================================================================\n",
      "Total params: 161,089\n",
      "Trainable params: 161,089\n",
      "Non-trainable params: 0\n",
      "_________________________________________________________________\n"
     ]
    }
   ],
   "source": [
    "if BINARY_CLASSIFICATION:\n",
    "    \n",
    "    model = tf.keras.Sequential([\n",
    "\n",
    "        tf.keras.layers.Embedding(input_dim = NUM_WORDS, \n",
    "                                  output_dim = EMBEDDING_DIM, \n",
    "                                  input_length = training_padded_sequences.shape[1],\n",
    "                                  name = 'input_layer'),\n",
    "\n",
    "        #tf.keras.layers.Flatten(name = 'hlayer1'),\n",
    "        tf.keras.layers.GlobalAveragePooling1D(name = 'hlayer1'),\n",
    "        \n",
    "        #tf.keras.layers.Bidirectional(tf.keras.layers.LSTM(EMBEDDING_DIM), name = 'hlayer1'),\n",
    "        \n",
    "        tf.keras.layers.Dense(units = 32, \n",
    "                              activation = 'relu', \n",
    "                              kernel_regularizer = keras.regularizers.l2(REGULARIZATION_PARAM), \n",
    "                              name = 'hlayer2'),\n",
    "        \n",
    "        tf.keras.layers.Dropout(rate = DROPOUT_RATE, seed = 0),\n",
    "        \n",
    "        tf.keras.layers.Dense(units = 16, \n",
    "                              activation = 'relu', \n",
    "                              kernel_regularizer = keras.regularizers.l2(REGULARIZATION_PARAM), \n",
    "                              name = 'hlayer3'),\n",
    "        \n",
    "        tf.keras.layers.Dropout(rate = DROPOUT_RATE, seed = 0),\n",
    "\n",
    "        tf.keras.layers.Dense(1, activation = 'sigmoid', name = 'output_layer')\n",
    "    ])\n",
    "    \n",
    "    adam = keras.optimizers.Adam(lr = LEARNING_RATE)\n",
    "    model.compile(loss = 'binary_crossentropy', optimizer = adam, metrics = ['accuracy'])\n",
    "    \n",
    "else:\n",
    "    \n",
    "    model = tf.keras.Sequential([\n",
    "\n",
    "        tf.keras.layers.Embedding(input_dim = NUM_WORDS, \n",
    "                                  output_dim = EMBEDDING_DIM, \n",
    "                                  input_length = training_padded_sequences.shape[1],\n",
    "                                  name = 'input_layer'),\n",
    "\n",
    "        tf.keras.layers.GlobalAveragePooling1D(name = 'hlayer1'),\n",
    "\n",
    "        tf.keras.layers.Dense(units = 32, \n",
    "                              activation = 'relu', \n",
    "                              kernel_regularizer = keras.regularizers.l2(REGULARIZATION_PARAM), \n",
    "                              name = 'hlayer2'),\n",
    "        \n",
    "        tf.keras.layers.Dropout(rate = DROPOUT_RATE, seed = 0),\n",
    "        \n",
    "        tf.keras.layers.Dense(units = 16, \n",
    "                              activation = 'relu', \n",
    "                              kernel_regularizer = keras.regularizers.l2(REGULARIZATION_PARAM), \n",
    "                              name = 'hlayer3'),\n",
    "        \n",
    "        tf.keras.layers.Dropout(rate = DROPOUT_RATE, seed = 0),\n",
    "\n",
    "        tf.keras.layers.Dense(3, activation = 'softmax', name = 'output_layer')\n",
    "    ])\n",
    "    \n",
    "    model.compile(loss = 'sparse_categorical_crossentropy', optimizer = 'adam', metrics = ['accuracy'])\n",
    "\n",
    "#--------------------------------------------------------------------------------------------------------------------#\n",
    "\n",
    "model.summary()"
   ]
  },
  {
   "cell_type": "markdown",
   "metadata": {},
   "source": [
    "<hr style=\"width:100%; height:20px; border:none; color:#ffffff; background-color:#000000;\">\n",
    "\n",
    "### SEQUENTIAL MODEL TRAINING"
   ]
  },
  {
   "cell_type": "code",
   "execution_count": 11,
   "metadata": {},
   "outputs": [
    {
     "name": "stderr",
     "output_type": "stream",
     "text": [
      "WARNING: Logging before flag parsing goes to stderr.\n",
      "W0806 02:05:42.202767 140737143739328 deprecation.py:323] From /anaconda3/lib/python3.6/site-packages/tensorflow/python/ops/math_grad.py:1250: add_dispatch_support.<locals>.wrapper (from tensorflow.python.ops.array_ops) is deprecated and will be removed in a future version.\n",
      "Instructions for updating:\n",
      "Use tf.where in 2.0, which has the same broadcast rule as np.where\n"
     ]
    },
    {
     "name": "stdout",
     "output_type": "stream",
     "text": [
      "Train on 318750 samples, validate on 106250 samples\n",
      "Epoch 1/50\n",
      "318750/318750 [==============================] - 25s 80us/sample - loss: 0.7020 - accuracy: 0.6583 - val_loss: 0.6718 - val_accuracy: 0.6602\n",
      "Epoch 2/50\n",
      "318750/318750 [==============================] - 21s 65us/sample - loss: 0.6570 - accuracy: 0.6659 - val_loss: 0.6405 - val_accuracy: 0.6795\n",
      "Epoch 3/50\n",
      "318750/318750 [==============================] - 21s 66us/sample - loss: 0.6341 - accuracy: 0.6920 - val_loss: 0.6151 - val_accuracy: 0.7053\n",
      "Epoch 4/50\n",
      "318750/318750 [==============================] - 24s 76us/sample - loss: 0.6016 - accuracy: 0.7197 - val_loss: 0.5668 - val_accuracy: 0.7366\n",
      "Epoch 5/50\n",
      "318750/318750 [==============================] - 23s 72us/sample - loss: 0.5443 - accuracy: 0.7650 - val_loss: 0.4974 - val_accuracy: 0.7914\n",
      "Epoch 6/50\n",
      "318750/318750 [==============================] - 24s 75us/sample - loss: 0.4838 - accuracy: 0.8104 - val_loss: 0.4416 - val_accuracy: 0.8286\n",
      "Epoch 7/50\n",
      "318750/318750 [==============================] - 21s 66us/sample - loss: 0.4408 - accuracy: 0.8388 - val_loss: 0.4063 - val_accuracy: 0.8529\n",
      "Epoch 8/50\n",
      "318750/318750 [==============================] - 23s 72us/sample - loss: 0.4136 - accuracy: 0.8549 - val_loss: 0.3843 - val_accuracy: 0.8664\n",
      "Epoch 9/50\n",
      "318750/318750 [==============================] - 21s 67us/sample - loss: 0.3952 - accuracy: 0.8650 - val_loss: 0.3694 - val_accuracy: 0.8752\n",
      "Epoch 10/50\n",
      "318750/318750 [==============================] - 21s 65us/sample - loss: 0.3821 - accuracy: 0.8725 - val_loss: 0.3584 - val_accuracy: 0.8824\n",
      "Epoch 11/50\n",
      "318750/318750 [==============================] - 20s 62us/sample - loss: 0.3721 - accuracy: 0.8780 - val_loss: 0.3500 - val_accuracy: 0.8859\n",
      "Epoch 12/50\n",
      "318750/318750 [==============================] - 20s 63us/sample - loss: 0.3641 - accuracy: 0.8817 - val_loss: 0.3431 - val_accuracy: 0.8889\n",
      "Epoch 13/50\n",
      "318750/318750 [==============================] - 20s 63us/sample - loss: 0.3566 - accuracy: 0.8844 - val_loss: 0.3374 - val_accuracy: 0.8909\n",
      "Epoch 14/50\n",
      "318750/318750 [==============================] - 20s 62us/sample - loss: 0.3504 - accuracy: 0.8873 - val_loss: 0.3322 - val_accuracy: 0.8926\n",
      "Epoch 15/50\n",
      "318750/318750 [==============================] - 20s 62us/sample - loss: 0.3453 - accuracy: 0.8884 - val_loss: 0.3278 - val_accuracy: 0.8942\n",
      "Epoch 16/50\n",
      "318750/318750 [==============================] - 20s 63us/sample - loss: 0.3409 - accuracy: 0.8904 - val_loss: 0.3239 - val_accuracy: 0.8946\n",
      "Epoch 17/50\n",
      "318750/318750 [==============================] - 20s 62us/sample - loss: 0.3356 - accuracy: 0.8923 - val_loss: 0.3204 - val_accuracy: 0.8955\n",
      "Epoch 18/50\n",
      "318750/318750 [==============================] - 19s 61us/sample - loss: 0.3325 - accuracy: 0.8932 - val_loss: 0.3168 - val_accuracy: 0.8971\n",
      "Epoch 19/50\n",
      "318750/318750 [==============================] - 20s 62us/sample - loss: 0.3290 - accuracy: 0.8945 - val_loss: 0.3139 - val_accuracy: 0.8979\n",
      "Epoch 20/50\n",
      "318750/318750 [==============================] - 20s 62us/sample - loss: 0.3258 - accuracy: 0.8952 - val_loss: 0.3116 - val_accuracy: 0.8974\n",
      "Epoch 21/50\n",
      "318750/318750 [==============================] - 20s 62us/sample - loss: 0.3223 - accuracy: 0.8961 - val_loss: 0.3094 - val_accuracy: 0.8974\n",
      "Epoch 22/50\n",
      "318750/318750 [==============================] - 20s 62us/sample - loss: 0.3203 - accuracy: 0.8965 - val_loss: 0.3065 - val_accuracy: 0.8994\n",
      "Epoch 23/50\n",
      "318750/318750 [==============================] - 20s 62us/sample - loss: 0.3176 - accuracy: 0.8971 - val_loss: 0.3043 - val_accuracy: 0.9001\n",
      "Epoch 24/50\n",
      "318750/318750 [==============================] - 20s 62us/sample - loss: 0.3152 - accuracy: 0.8979 - val_loss: 0.3023 - val_accuracy: 0.9003\n",
      "Epoch 25/50\n",
      "318750/318750 [==============================] - 20s 62us/sample - loss: 0.3131 - accuracy: 0.8984 - val_loss: 0.3006 - val_accuracy: 0.9002\n",
      "Epoch 26/50\n",
      "318750/318750 [==============================] - 20s 62us/sample - loss: 0.3108 - accuracy: 0.8991 - val_loss: 0.2986 - val_accuracy: 0.9010\n",
      "Epoch 27/50\n",
      "318750/318750 [==============================] - 20s 62us/sample - loss: 0.3089 - accuracy: 0.8994 - val_loss: 0.2968 - val_accuracy: 0.9010\n",
      "Epoch 28/50\n",
      "318750/318750 [==============================] - 20s 62us/sample - loss: 0.3068 - accuracy: 0.8999 - val_loss: 0.2951 - val_accuracy: 0.9013\n",
      "Epoch 29/50\n",
      "318750/318750 [==============================] - 20s 62us/sample - loss: 0.3049 - accuracy: 0.9003 - val_loss: 0.2943 - val_accuracy: 0.9003\n",
      "Epoch 30/50\n",
      "318750/318750 [==============================] - 20s 62us/sample - loss: 0.3033 - accuracy: 0.9011 - val_loss: 0.2920 - val_accuracy: 0.9019\n",
      "Epoch 31/50\n",
      "318750/318750 [==============================] - 20s 62us/sample - loss: 0.3015 - accuracy: 0.9015 - val_loss: 0.2905 - val_accuracy: 0.9022\n",
      "Epoch 32/50\n",
      "318750/318750 [==============================] - 20s 63us/sample - loss: 0.3000 - accuracy: 0.9016 - val_loss: 0.2895 - val_accuracy: 0.9018\n",
      "Epoch 33/50\n",
      "318750/318750 [==============================] - 20s 64us/sample - loss: 0.2990 - accuracy: 0.9022 - val_loss: 0.2884 - val_accuracy: 0.9019\n",
      "Epoch 34/50\n",
      "318750/318750 [==============================] - 20s 63us/sample - loss: 0.2971 - accuracy: 0.9023 - val_loss: 0.2869 - val_accuracy: 0.9022\n",
      "Epoch 35/50\n",
      "318750/318750 [==============================] - 20s 63us/sample - loss: 0.2956 - accuracy: 0.9026 - val_loss: 0.2859 - val_accuracy: 0.9022\n",
      "Epoch 36/50\n",
      "318750/318750 [==============================] - 20s 63us/sample - loss: 0.2947 - accuracy: 0.9024 - val_loss: 0.2853 - val_accuracy: 0.9020\n",
      "Epoch 37/50\n",
      "318750/318750 [==============================] - 20s 63us/sample - loss: 0.2931 - accuracy: 0.9039 - val_loss: 0.2839 - val_accuracy: 0.9022\n",
      "Epoch 38/50\n",
      "318750/318750 [==============================] - 20s 63us/sample - loss: 0.2918 - accuracy: 0.9035 - val_loss: 0.2827 - val_accuracy: 0.9030\n",
      "Epoch 39/50\n",
      "318750/318750 [==============================] - 20s 64us/sample - loss: 0.2910 - accuracy: 0.9041 - val_loss: 0.2818 - val_accuracy: 0.9030\n",
      "Epoch 40/50\n",
      "318750/318750 [==============================] - 20s 62us/sample - loss: 0.2898 - accuracy: 0.9044 - val_loss: 0.2810 - val_accuracy: 0.9025\n",
      "Epoch 41/50\n",
      "318750/318750 [==============================] - 20s 62us/sample - loss: 0.2887 - accuracy: 0.9043 - val_loss: 0.2801 - val_accuracy: 0.9033\n",
      "Epoch 42/50\n",
      "318750/318750 [==============================] - 20s 62us/sample - loss: 0.2873 - accuracy: 0.9048 - val_loss: 0.2793 - val_accuracy: 0.9033\n",
      "Epoch 43/50\n",
      "318750/318750 [==============================] - 19s 61us/sample - loss: 0.2868 - accuracy: 0.9047 - val_loss: 0.2786 - val_accuracy: 0.9035\n",
      "Epoch 44/50\n",
      "318750/318750 [==============================] - 19s 61us/sample - loss: 0.2856 - accuracy: 0.9053 - val_loss: 0.2780 - val_accuracy: 0.9035\n",
      "Epoch 45/50\n",
      "318750/318750 [==============================] - 20s 62us/sample - loss: 0.2848 - accuracy: 0.9050 - val_loss: 0.2774 - val_accuracy: 0.9035\n",
      "Epoch 46/50\n",
      "318750/318750 [==============================] - 20s 61us/sample - loss: 0.2840 - accuracy: 0.9055 - val_loss: 0.2766 - val_accuracy: 0.9035\n",
      "Epoch 47/50\n",
      "318750/318750 [==============================] - 20s 62us/sample - loss: 0.2827 - accuracy: 0.9059 - val_loss: 0.2759 - val_accuracy: 0.9035\n",
      "Epoch 48/50\n",
      "318750/318750 [==============================] - 20s 63us/sample - loss: 0.2818 - accuracy: 0.9062 - val_loss: 0.2754 - val_accuracy: 0.9036\n",
      "Epoch 49/50\n",
      "318750/318750 [==============================] - 20s 63us/sample - loss: 0.2811 - accuracy: 0.9058 - val_loss: 0.2748 - val_accuracy: 0.9037\n",
      "Epoch 50/50\n",
      "318750/318750 [==============================] - 21s 67us/sample - loss: 0.2802 - accuracy: 0.9064 - val_loss: 0.2742 - val_accuracy: 0.9037\n",
      "CPU times: user 18min 21s, sys: 4min 21s, total: 22min 42s\n",
      "Wall time: 17min 4s\n"
     ]
    }
   ],
   "source": [
    "%%time\n",
    "\n",
    "if not os.path.isfile('model_NLP.h5'):\n",
    "\n",
    "    history = model.fit(training_padded_sequences, \n",
    "                        training_labls, \n",
    "                        validation_data = (validation_padded_sequences, validation_labls), \n",
    "                        epochs = NUM_EPOCHS,\n",
    "                        batch_size = BATCH_SIZE,\n",
    "                        callbacks = [custom_Callback()],\n",
    "                        verbose = 1)\n",
    "    \n",
    "    #model.save(\"model_NLP.h5\")\n",
    "    #print(\"Trainned model saved to disk!\")\n",
    "    \n",
    "else:\n",
    "    \n",
    "    model = load_model('model_NLP.h5')\n",
    "    print(\"Trainned model loaded from disk!\")"
   ]
  },
  {
   "cell_type": "markdown",
   "metadata": {},
   "source": [
    "<hr style=\"width:100%; height:20px; border:none; color:#ffffff; background-color:#000000;\">\n",
    "\n",
    "### PLOTTING MODEL PERFORMANCE DURING TRAINING"
   ]
  },
  {
   "cell_type": "code",
   "execution_count": 12,
   "metadata": {},
   "outputs": [
    {
     "data": {
      "text/plain": [
       "dict_keys(['loss', 'accuracy', 'val_loss', 'val_accuracy'])"
      ]
     },
     "execution_count": 12,
     "metadata": {},
     "output_type": "execute_result"
    }
   ],
   "source": [
    "history_dict = history.history\n",
    "history_dict.keys()"
   ]
  },
  {
   "cell_type": "code",
   "execution_count": 13,
   "metadata": {},
   "outputs": [
    {
     "data": {
      "image/png": "[encoded data removed]",
      "text/plain": [
       "<Figure size 720x216 with 2 Axes>"
      ]
     },
     "metadata": {
      "needs_background": "light"
     },
     "output_type": "display_data"
    }
   ],
   "source": [
    "fig = plt.figure(figsize = (10,3))\n",
    "\n",
    "#--------------------------------------------------------------------------------------------------------------------#\n",
    "\n",
    "ax1 = plt.subplot(121)\n",
    "ax1.spines['top'].set_visible(False)\n",
    "ax1.spines['right'].set_visible(False)\n",
    "\n",
    "plt.plot(np.arange(0, NUM_EPOCHS, 1), history.history['accuracy'], lw = 2, color = 'blue', label = 'acc')\n",
    "plt.plot(np.arange(0, NUM_EPOCHS, 1), history.history['val_accuracy'], lw = 2, color = 'red', label = 'val_acc')\n",
    "\n",
    "plt.xlabel('epochs', fontsize = 14)\n",
    "plt.xticks(np.arange(0, (1.1 * NUM_EPOCHS), NUM_EPOCHS/5), fontsize = 14)\n",
    "miny = np.min([np.min(history.history['accuracy']), np.min(history.history['val_accuracy'])])\n",
    "maxy = np.max([np.max(history.history['accuracy']), np.max(history.history['val_accuracy'])])\n",
    "plt.yticks(np.round(np.arange(miny, (1.01 * maxy), (maxy - miny)/5), 3), fontsize = 14)\n",
    "plt.xlim(0, NUM_EPOCHS)\n",
    "plt.legend(loc = 'lower right', frameon = False, fontsize = 13)\n",
    "\n",
    "#----------------------------------------------------#\n",
    "\n",
    "ax2 = plt.subplot(122)\n",
    "ax2.spines['top'].set_visible(False)\n",
    "ax2.spines['right'].set_visible(False)\n",
    "\n",
    "plt.plot(np.arange(0, NUM_EPOCHS, 1), history.history['loss'], lw = 2, color = 'blue', label = 'loss')\n",
    "plt.plot(np.arange(0, NUM_EPOCHS, 1), history.history['val_loss'], lw = 2, color = 'red', label = 'val_loss')\n",
    "\n",
    "plt.xlabel('epochs', fontsize = 14)\n",
    "plt.xticks(np.arange(0, (1.1 * NUM_EPOCHS), NUM_EPOCHS/5), fontsize = 14)\n",
    "miny = np.min([np.min(history.history['loss']), np.min(history.history['val_loss'])])\n",
    "maxy = np.max([np.max(history.history['loss']), np.max(history.history['val_loss'])])\n",
    "plt.yticks(np.round(np.arange(miny, (1.1 * maxy), (maxy - miny)/5), 2), fontsize = 14)\n",
    "plt.xlim(0, NUM_EPOCHS)\n",
    "plt.legend(loc = 'upper right', frameon = False, fontsize = 13)\n",
    "\n",
    "#--------------------------------------------------------------------------------------------------------------------#\n",
    "\n",
    "plt.subplots_adjust(wspace = 0.25)\n",
    "plt.show()"
   ]
  },
  {
   "cell_type": "markdown",
   "metadata": {},
   "source": [
    "<hr style=\"width:100%; height:20px; border:none; color:#ffffff; background-color:#000000;\">\n",
    "\n",
    "### MODEL PERFORMANCE ON THE UNSEEN TEST DATA"
   ]
  },
  {
   "cell_type": "code",
   "execution_count": 14,
   "metadata": {
    "scrolled": true
   },
   "outputs": [
    {
     "name": "stdout",
     "output_type": "stream",
     "text": [
      "75000/75000 [==============================] - 8s 102us/sample - loss: 0.2725 - accuracy: 0.9055\n"
     ]
    }
   ],
   "source": [
    "loss_val, metric_val = model.evaluate(test_padded_sequences, test_labls)"
   ]
  },
  {
   "cell_type": "markdown",
   "metadata": {},
   "source": [
    "<hr style=\"width:100%; height:10px; border:none; color:#ffffff; background-color:#000000;\">\n",
    "\n",
    "### SAVING OUTPUTS FOR EMBEDDING VISUALIZATION (RESULTING POLARIZATION OF WORDS)"
   ]
  },
  {
   "cell_type": "code",
   "execution_count": 15,
   "metadata": {},
   "outputs": [],
   "source": [
    "reverse_word_index = dict([(v, k) for (k, v) in word_indexes.items()])\n",
    "weights = model.layers[0].get_weights()[0]\n",
    "\n",
    "#metadata file\n",
    "words_file = io.open('metada.tsv', 'w', encoding = 'utf-8')\n",
    "#vectors file\n",
    "weights_file = io.open('vectors.tsv', 'w', encoding = 'utf-8')\n",
    "\n",
    "for i in range(1, NUM_WORDS):\n",
    "    \n",
    "    words_file.write(reverse_word_index[i] + \"\\n\")\n",
    "    weights_file.write('\\t'.join([str(x) for x in weights[i]]) + \"\\n\")\n",
    "\n",
    "words_file.close()\n",
    "weights_file.close()\n",
    "\n",
    "# i) Go to https://projector.tensorflow.org/\n",
    "# ii) Load the medatada and vectors files \n",
    "# iii) Sphereize data, i.e the data is normalized by shifting each point by the centroid and making it unit norm."
   ]
  },
  {
   "cell_type": "code",
   "execution_count": 16,
   "metadata": {},
   "outputs": [],
   "source": [
    "#os.kill(os.getpid(), signal.SIGKILL)"
   ]
  }
 ],
 "metadata": {
  "kernelspec": {
   "display_name": "Python 3",
   "language": "python",
   "name": "python3"
  },
  "language_info": {
   "codemirror_mode": {
    "name": "ipython",
    "version": 3
   },
   "file_extension": ".py",
   "mimetype": "text/x-python",
   "name": "python",
   "nbconvert_exporter": "python",
   "pygments_lexer": "ipython3",
   "version": "3.6.9"
  }
 },
 "nbformat": 4,
 "nbformat_minor": 2
}
